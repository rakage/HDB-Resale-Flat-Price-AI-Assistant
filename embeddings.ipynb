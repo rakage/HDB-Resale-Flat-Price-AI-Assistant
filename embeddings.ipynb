{
 "cells": [
  {
   "cell_type": "code",
   "execution_count": null,
   "metadata": {},
   "outputs": [],
   "source": [
    "import pandas as pd\n",
    "\n",
    "# Load the CSV files\n",
    "df1 = pd.read_csv('Resale Flat Prices (Based on Registration Date), From Jan 2015 to Dec 2016.csv')\n",
    "df2 = pd.read_csv('Resale Flat Prices (Based on Registration Date), From Mar 2012 to Dec 2014.csv')\n",
    "df3 = pd.read_csv('Resale flat prices based on registration date from Jan-2017 onwards.csv')\n",
    "df4 = pd.read_csv('Resale Flat Prices (Based on Approval Date), 1990 - 1999.csv')\n",
    "df5 = pd.read_csv('Resale Flat Prices (Based on Approval Date), 2000 - Feb 2012.csv')\n",
    "\n",
    "# Merge the dataframes into one (assuming they have the same structure)\n",
    "df = pd.concat([df1, df2, df3, df4, df5], ignore_index=True)\n",
    "\n",
    "# Ensure the 'month' or equivalent date column is in datetime format\n",
    "df['month'] = pd.to_datetime(df['month'], errors='coerce')\n",
    "\n",
    "# Save the merged dataframe to a new file\n",
    "df.to_csv('merged_hdb_resale_prices.csv', index=False)\n",
    "\n",
    "# Display the first few rows to confirm\n",
    "df.head()\n"
   ]
  },
  {
   "cell_type": "code",
   "execution_count": null,
   "metadata": {},
   "outputs": [],
   "source": [
    "def create_summaries(df):\n",
    "    # Aggregate by town and flat_type\n",
    "    agg_df = df.groupby(['town', 'flat_type']).agg({\n",
    "        'resale_price': ['mean', 'min', 'max', 'count'],\n",
    "        'floor_area_sqm': ['mean', 'min', 'max'],\n",
    "        'month': 'max'  # Most recent transaction\n",
    "    }).reset_index()\n",
    "\n",
    "    # Flatten column names\n",
    "    agg_df.columns = ['_'.join(col).strip() for col in agg_df.columns.values]\n",
    "\n",
    "    # Create summary texts\n",
    "    summaries = []\n",
    "    for _, row in agg_df.iterrows():\n",
    "        summary = f\"In {row['town_']} for {row['flat_type_']} flats: \"\n",
    "        summary += f\"Average price: ${row['resale_price_mean']:,.2f}, \"\n",
    "        summary += f\"Price range: ${row['resale_price_min']:,.2f} to ${row['resale_price_max']:,.2f}, \"\n",
    "        summary += f\"Average size: {row['floor_area_sqm_mean']:.1f} sqm, \"\n",
    "        summary += f\"Size range: {row['floor_area_sqm_min']:.1f} to {row['floor_area_sqm_max']:.1f} sqm, \"\n",
    "        summary += f\"Based on {row['resale_price_count']} transactions up to {row['month_max'].strftime('%B %Y')}.\"\n",
    "        summaries.append(summary)\n",
    "\n",
    "    return summaries\n",
    "\n",
    "summaries = create_summaries(df)\n"
   ]
  },
  {
   "cell_type": "code",
   "execution_count": 7,
   "metadata": {},
   "outputs": [
    {
     "data": {
      "text/plain": [
       "0      In ANG MO KIO for 1 ROOM flats: Average price:...\n",
       "1      In ANG MO KIO for 2 ROOM flats: Average price:...\n",
       "2      In ANG MO KIO for 3 ROOM flats: Average price:...\n",
       "3      In ANG MO KIO for 4 ROOM flats: Average price:...\n",
       "4      In ANG MO KIO for 5 ROOM flats: Average price:...\n",
       "                             ...                        \n",
       "132    In YISHUN for 4 ROOM flats: Average price: $26...\n",
       "133    In YISHUN for 5 ROOM flats: Average price: $37...\n",
       "134    In YISHUN for EXECUTIVE flats: Average price: ...\n",
       "135    In YISHUN for MULTI GENERATION flats: Average ...\n",
       "136    In YISHUN for MULTI-GENERATION flats: Average ...\n",
       "Name: summary, Length: 137, dtype: object"
      ]
     },
     "execution_count": 7,
     "metadata": {},
     "output_type": "execute_result"
    }
   ],
   "source": [
    "import pandas as pd\n",
    "df = pd.read_csv(\"df_summary.csv\")\n",
    "df = df['summary']\n",
    "df"
   ]
  },
  {
   "cell_type": "code",
   "execution_count": null,
   "metadata": {},
   "outputs": [],
   "source": [
    "# pip install chromadb langchain langchain-openai langchain-chroma\n",
    "import chromadb\n",
    "from chromadb.utils.embedding_functions import create_langchain_embedding\n",
    "from langchain_openai import OpenAIEmbeddings\n",
    "import os\n",
    "import pandas as pd\n",
    "\n",
    "langchain_embeddings = OpenAIEmbeddings(\n",
    "    model=\"text-embedding-3-large\",\n",
    "    api_key=os.getenv(\"OPENAI_API_KEY\"),\n",
    ")\n",
    "ef = create_langchain_embedding(langchain_embeddings)\n",
    "client = chromadb.PersistentClient(path=\"/chroma-data\")\n",
    "collection = client.get_or_create_collection(name=\"my_collection\", embedding_function=ef)\n",
    "\n",
    "df = pd.read_csv(\"df_summary.csv\")\n",
    "df = df['summary']\n",
    "\n",
    "for i in range(len(df)):\n",
    "    collection.add(ids=[str(i)], documents=[df[i]])\n",
    "\n"
   ]
  },
  {
   "cell_type": "code",
   "execution_count": 28,
   "metadata": {},
   "outputs": [
    {
     "name": "stdout",
     "output_type": "stream",
     "text": [
      "* In ANG MO KIO for 5 ROOM flats: Average price: $486,224.27, Price range: $78,300.00 to $1,300,000.00, Average size: 120.5 sqm, Size range: 110.0 to 150.0 sqm, Based on 5275 transactions up to October 2024. (score: 1.100592)\n",
      "* In ANG MO KIO for 4 ROOM flats: Average price: $322,317.46, Price range: $47,000.00 to $1,080,000.00, Average size: 93.2 sqm, Size range: 81.0 to 114.0 sqm, Based on 12889 transactions up to October 2024. (score: 1.100861)\n"
     ]
    }
   ],
   "source": [
    "# Retrieve the embeddings\n",
    "import numpy as np\n",
    "import pandas as pd\n",
    "from chromadb.utils.embedding_functions import create_langchain_embedding\n",
    "from langchain_openai import OpenAIEmbeddings\n",
    "from langchain_chroma import Chroma\n",
    "import os\n",
    "\n",
    "embeddings = OpenAIEmbeddings(\n",
    "    model=\"text-embedding-3-large\",\n",
    "    api_key=os.getenv(\"OPENAI_API_KEY\"),\n",
    ")\n",
    "\n",
    "vector_store = Chroma(\n",
    "    collection_name=\"my_collection\",\n",
    "    embedding_function=embeddings,\n",
    "    persist_directory=\"/chroma-data\",  # Where to save data locally, remove if not necessary\n",
    ")\n",
    "\n",
    "results = vector_store.similarity_search_with_score(\n",
    "    \"ANG MO KIO with good food\",\n",
    "    k=2,\n",
    ")\n",
    "for res, score in results:\n",
    "    print(f\"* {res.page_content} (score: {score:3f})\")\n",
    "\n"
   ]
  }
 ],
 "metadata": {
  "kernelspec": {
   "display_name": ".venv",
   "language": "python",
   "name": "python3"
  },
  "language_info": {
   "codemirror_mode": {
    "name": "ipython",
    "version": 3
   },
   "file_extension": ".py",
   "mimetype": "text/x-python",
   "name": "python",
   "nbconvert_exporter": "python",
   "pygments_lexer": "ipython3",
   "version": "3.12.0"
  }
 },
 "nbformat": 4,
 "nbformat_minor": 2
}
